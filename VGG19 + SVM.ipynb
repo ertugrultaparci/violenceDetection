{
 "cells": [
  {
   "cell_type": "markdown",
   "id": "3a4d9f98",
   "metadata": {},
   "source": [
    "### VGG19 + SVM"
   ]
  },
  {
   "cell_type": "code",
   "execution_count": 1,
   "id": "3cc5f6c1",
   "metadata": {},
   "outputs": [],
   "source": [
    "#Import svm model\n",
    "from sklearn import svm\n",
    "\n",
    "#Import scikit-learn metrics module for accuracy calculation\n",
    "from sklearn import metrics\n",
    "\n",
    "from keras.applications import VGG16\n",
    "from dataPreparation import *"
   ]
  },
  {
   "cell_type": "code",
   "execution_count": 2,
   "id": "5165c1f1",
   "metadata": {},
   "outputs": [],
   "source": [
    "data, target = process_alldata_training('vgg19_feature_extraction.h5')\n",
    "data_test, target_test = process_alldata_test('vgg19_feature_extraction_validation.h5')"
   ]
  },
  {
   "cell_type": "code",
   "execution_count": 3,
   "id": "968557a3",
   "metadata": {},
   "outputs": [],
   "source": [
    "for i in range(len(data)):\n",
    "    data[i] = np.reshape(data[i],(-1))\n",
    "for i in range(len(data_test)):\n",
    "    data_test[i] = np.reshape(data_test[i],(-1))"
   ]
  },
  {
   "cell_type": "code",
   "execution_count": 4,
   "id": "3b6ff4b8",
   "metadata": {},
   "outputs": [],
   "source": [
    "for i in range(len(target)):\n",
    "    if(target[i][0]==1):\n",
    "        target[i] = 1\n",
    "    else:\n",
    "        target[i] = 0\n",
    "        \n",
    "for i in range(len(target_test)):\n",
    "    if(target_test[i][0]==1):\n",
    "        target_test[i] = 1\n",
    "    else:\n",
    "        target_test[i] = 0"
   ]
  },
  {
   "cell_type": "code",
   "execution_count": 5,
   "id": "c5a501b0",
   "metadata": {},
   "outputs": [],
   "source": [
    "#Create a svm Classifier\n",
    "#clf = svm.SVC(kernel='linear') # Linear Kernel\n",
    "clf = svm.SVC(C=1.0, random_state=1, kernel='linear')\n",
    "\n",
    "#Train the model using the training sets\n",
    "clf.fit(data, target)\n",
    "\n",
    "#Predict the response for test dataset\n",
    "y_pred = clf.predict(data_test)"
   ]
  },
  {
   "cell_type": "code",
   "execution_count": 6,
   "id": "3e0da972",
   "metadata": {},
   "outputs": [
    {
     "name": "stdout",
     "output_type": "stream",
     "text": [
      "Accuracy: 0.94\n"
     ]
    }
   ],
   "source": [
    "# Model Accuracy: how often is the classifier correct?\n",
    "print(\"Accuracy:\",metrics.accuracy_score(target_test, y_pred))"
   ]
  },
  {
   "cell_type": "code",
   "execution_count": null,
   "id": "03b38856",
   "metadata": {},
   "outputs": [],
   "source": []
  }
 ],
 "metadata": {
  "kernelspec": {
   "display_name": "Python 3 (ipykernel)",
   "language": "python",
   "name": "python3"
  },
  "language_info": {
   "codemirror_mode": {
    "name": "ipython",
    "version": 3
   },
   "file_extension": ".py",
   "mimetype": "text/x-python",
   "name": "python",
   "nbconvert_exporter": "python",
   "pygments_lexer": "ipython3",
   "version": "3.9.13"
  }
 },
 "nbformat": 4,
 "nbformat_minor": 5
}
