{
 "cells": [
  {
   "cell_type": "markdown",
   "id": "3a4d9f98",
   "metadata": {},
   "source": [
    "### VGG16 + SVM"
   ]
  },
  {
   "cell_type": "code",
   "execution_count": 1,
   "id": "3cc5f6c1",
   "metadata": {},
   "outputs": [],
   "source": [
    "#Import svm model\n",
    "from sklearn import svm\n",
    "\n",
    "#Import scikit-learn metrics module for accuracy calculation\n",
    "from sklearn import metrics\n",
    "\n",
    "from keras.applications import VGG16\n",
    "from dataPreparation import *"
   ]
  },
  {
   "cell_type": "code",
   "execution_count": 2,
   "id": "01882f30",
   "metadata": {},
   "outputs": [],
   "source": [
    "img_size = 224\n",
    "img_size_flat = img_size * img_size * num_channels\n",
    "num_classes = 2\n",
    "_num_files_train = 1\n",
    "_images_per_file = 20\n",
    "_num_images_train = _num_files_train * _images_per_file\n",
    "video_exts = \".avi\""
   ]
  },
  {
   "cell_type": "code",
   "execution_count": 3,
   "id": "743b9c61",
   "metadata": {},
   "outputs": [],
   "source": [
    "in_dir = \"./AllData/\""
   ]
  },
  {
   "cell_type": "code",
   "execution_count": 4,
   "id": "a539f890",
   "metadata": {},
   "outputs": [],
   "source": [
    "image_model = VGG16(include_top=True, weights='imagenet')"
   ]
  },
  {
   "cell_type": "code",
   "execution_count": 5,
   "id": "c05c35a1",
   "metadata": {},
   "outputs": [
    {
     "name": "stdout",
     "output_type": "stream",
     "text": [
      "[(None, 224, 224, 3)]\n",
      "(224, 224)\n"
     ]
    }
   ],
   "source": [
    "input_shape = image_model.layers[0].output_shape[:]\n",
    "print(input_shape)\n",
    "input_shape=(224,224)\n",
    "print(input_shape)"
   ]
  },
  {
   "cell_type": "code",
   "execution_count": 6,
   "id": "c3e9822f",
   "metadata": {},
   "outputs": [
    {
     "name": "stdout",
     "output_type": "stream",
     "text": [
      "<keras.layers.core.dense.Dense object at 0x00000220D9CB5670>\n",
      "The input of the VGG16 net have dimensions: (224, 224)\n",
      "The output of the selecter layer of VGG16 net have dimensions:  4096\n"
     ]
    }
   ],
   "source": [
    "transfer_layer = image_model.get_layer('fc2')\n",
    "print(transfer_layer)\n",
    "image_model_transfer = Model(inputs=image_model.input,\n",
    "                             outputs=transfer_layer.output)\n",
    "\n",
    "transfer_values_size = K.int_shape(transfer_layer.output)[1]\n",
    "\n",
    "print(\"The input of the VGG16 net have dimensions:\",K.int_shape(image_model.input)[1:3])\n",
    "\n",
    "print(\"The output of the selecter layer of VGG16 net have dimensions: \", transfer_values_size)"
   ]
  },
  {
   "cell_type": "code",
   "execution_count": 7,
   "id": "3e2f5f11",
   "metadata": {},
   "outputs": [],
   "source": [
    "names, labels = label_video_names(in_dir)"
   ]
  },
  {
   "cell_type": "code",
   "execution_count": 8,
   "id": "de3a95ae",
   "metadata": {},
   "outputs": [],
   "source": [
    "training_set = int(len(names)*0.8)\n",
    "test_set = int(len(names)*0.2)\n",
    "\n",
    "names_training = names[0:training_set]\n",
    "names_test = names[training_set:]\n",
    "\n",
    "labels_training = labels[0:training_set]\n",
    "labels_test = labels[training_set:]"
   ]
  },
  {
   "cell_type": "code",
   "execution_count": 9,
   "id": "12a539b4",
   "metadata": {},
   "outputs": [],
   "source": [
    "#make_files(training_set, labels_training, names_training, in_dir, transfer_values_size, image_model_transfer)\n",
    "#make_files_test(test_set, labels_test, names_test, in_dir, transfer_values_size, image_model_transfer)"
   ]
  },
  {
   "cell_type": "code",
   "execution_count": 10,
   "id": "5165c1f1",
   "metadata": {},
   "outputs": [],
   "source": [
    "data, target = process_alldata_training()\n",
    "data_test, target_test = process_alldata_test()"
   ]
  },
  {
   "cell_type": "code",
   "execution_count": 11,
   "id": "968557a3",
   "metadata": {},
   "outputs": [],
   "source": [
    "for i in range(len(data)):\n",
    "    data[i] = np.reshape(data[i],(-1))\n",
    "for i in range(len(data_test)):\n",
    "    data_test[i] = np.reshape(data_test[i],(-1))"
   ]
  },
  {
   "cell_type": "code",
   "execution_count": 12,
   "id": "3b6ff4b8",
   "metadata": {},
   "outputs": [],
   "source": [
    "for i in range(len(target)):\n",
    "    if(target[i][0]==1):\n",
    "        target[i] = 1\n",
    "    else:\n",
    "        target[i] = 0\n",
    "        \n",
    "for i in range(len(target_test)):\n",
    "    if(target_test[i][0]==1):\n",
    "        target_test[i] = 1\n",
    "    else:\n",
    "        target_test[i] = 0"
   ]
  },
  {
   "cell_type": "code",
   "execution_count": 13,
   "id": "c5a501b0",
   "metadata": {},
   "outputs": [],
   "source": [
    "#Create a svm Classifier\n",
    "#clf = svm.SVC(kernel='linear') # Linear Kernel\n",
    "clf = svm.SVC(C=1.0, random_state=1, kernel='linear')\n",
    "\n",
    "#Train the model using the training sets\n",
    "clf.fit(data, target)\n",
    "\n",
    "#Predict the response for test dataset\n",
    "y_pred = clf.predict(data_test)"
   ]
  },
  {
   "cell_type": "code",
   "execution_count": 14,
   "id": "3e0da972",
   "metadata": {},
   "outputs": [
    {
     "name": "stdout",
     "output_type": "stream",
     "text": [
      "Accuracy: 0.9\n"
     ]
    }
   ],
   "source": [
    "# Model Accuracy: how often is the classifier correct?\n",
    "print(\"Accuracy:\",metrics.accuracy_score(target_test, y_pred))"
   ]
  },
  {
   "cell_type": "code",
   "execution_count": null,
   "id": "03b38856",
   "metadata": {},
   "outputs": [],
   "source": []
  }
 ],
 "metadata": {
  "kernelspec": {
   "display_name": "Python 3 (ipykernel)",
   "language": "python",
   "name": "python3"
  },
  "language_info": {
   "codemirror_mode": {
    "name": "ipython",
    "version": 3
   },
   "file_extension": ".py",
   "mimetype": "text/x-python",
   "name": "python",
   "nbconvert_exporter": "python",
   "pygments_lexer": "ipython3",
   "version": "3.9.13"
  }
 },
 "nbformat": 4,
 "nbformat_minor": 5
}
